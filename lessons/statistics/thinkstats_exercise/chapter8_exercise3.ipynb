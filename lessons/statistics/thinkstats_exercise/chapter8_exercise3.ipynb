{
 "cells": [
  {
   "cell_type": "code",
   "execution_count": 1,
   "metadata": {},
   "outputs": [
    {
     "name": "stdout",
     "output_type": "stream",
     "text": [
      "/home/weizhao/shared_folder/ds_self_learning/data_science/Metis/metisgh/prework/ThinkStats2-master/code\n"
     ]
    }
   ],
   "source": [
    "cd ../ThinkStats2-master/code"
   ]
  },
  {
   "cell_type": "code",
   "execution_count": 2,
   "metadata": {},
   "outputs": [],
   "source": [
    "import numpy as np\n",
    "import pandas as pd\n",
    "import scipy as sp\n",
    "import nsfg\n",
    "import matplotlib.pyplot as plt\n",
    "import first\n",
    "import thinkstats2\n",
    "import thinkplot\n",
    "import math\n",
    "import estimation as est\n",
    "import random"
   ]
  },
  {
   "cell_type": "code",
   "execution_count": 3,
   "metadata": {},
   "outputs": [],
   "source": [
    "def SimulateGame(lam):\n",
    "    \"\"\"Simulates a game and returns the estimated goal-scoring rate.\n",
    "\n",
    "    lam: actual goal scoring rate in goals per game\n",
    "    \"\"\"\n",
    "    goals = 0\n",
    "    t = 0\n",
    "    while True:\n",
    "        time_between_goals = random.expovariate(lam)\n",
    "        t += time_between_goals\n",
    "        if t > 1:\n",
    "            break\n",
    "        goals += 1\n",
    "\n",
    "    # estimated goal-scoring rate is the actual number of goals scored\n",
    "    L = goals\n",
    "    return L"
   ]
  },
  {
   "cell_type": "code",
   "execution_count": 155,
   "metadata": {},
   "outputs": [
    {
     "name": "stdout",
     "output_type": "stream",
     "text": [
      "rmse =  10.026260519256418\n",
      "mean error =  -0.0305\n"
     ]
    }
   ],
   "source": [
    "n_game = 10000\n",
    "lam = 100\n",
    "Lm = []\n",
    "rmses = []\n",
    "mes = []\n",
    "for _ in range(0,n_game):\n",
    "    Lm.append(SimulateGame(lam))\n",
    "rmses = est.RMSE(Lm, lam)\n",
    "mes = est.MeanError(Lm, lam)\n",
    "print('rmse = ', rmses)\n",
    "print('mean error = ', mes)"
   ]
  },
  {
   "cell_type": "markdown",
   "metadata": {},
   "source": [
    "### The estimates are biased as they are not converged when increasing the number of games"
   ]
  },
  {
   "cell_type": "code",
   "execution_count": 157,
   "metadata": {},
   "outputs": [
    {
     "data": {
      "image/png": "[encoded data removed]",
      "text/plain": [
       "<Figure size 432x288 with 1 Axes>"
      ]
     },
     "metadata": {
      "needs_background": "light"
     },
     "output_type": "display_data"
    }
   ],
   "source": [
    "cdf = thinkstats2.Cdf(Lm)\n",
    "thinkplot.Cdfs([cdf])\n",
    "thinkplot.axvline(cdf.Percentile(5))\n",
    "thinkplot.axvline(cdf.Percentile(95))\n",
    "thinkplot.config(xlabel = 'Lm',\n",
    "                 ylabel = 'cdf')"
   ]
  },
  {
   "cell_type": "markdown",
   "metadata": {},
   "source": [
    "The sampling error is increased with the increase in the number of games"
   ]
  }
 ],
 "metadata": {
  "kernelspec": {
   "display_name": "Python 3",
   "language": "python",
   "name": "python3"
  },
  "language_info": {
   "codemirror_mode": {
    "name": "ipython",
    "version": 3
   },
   "file_extension": ".py",
   "mimetype": "text/x-python",
   "name": "python",
   "nbconvert_exporter": "python",
   "pygments_lexer": "ipython3",
   "version": "3.8.5"
  }
 },
 "nbformat": 4,
 "nbformat_minor": 4
}
