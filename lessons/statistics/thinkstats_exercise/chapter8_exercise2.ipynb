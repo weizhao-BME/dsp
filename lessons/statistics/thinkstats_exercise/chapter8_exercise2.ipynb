{
 "cells": [
  {
   "cell_type": "code",
   "execution_count": 1,
   "metadata": {},
   "outputs": [
    {
     "name": "stdout",
     "output_type": "stream",
     "text": [
      "/home/weizhao/shared_folder/ds_self_learning/data_science/Metis/metisgh/prework/ThinkStats2-master/code\n"
     ]
    }
   ],
   "source": [
    "cd ../ThinkStats2-master/code"
   ]
  },
  {
   "cell_type": "code",
   "execution_count": 57,
   "metadata": {},
   "outputs": [],
   "source": [
    "import numpy as np\n",
    "import pandas as pd\n",
    "import scipy as sp\n",
    "import nsfg\n",
    "import matplotlib.pyplot as plt\n",
    "import first\n",
    "import thinkstats2\n",
    "import thinkplot\n",
    "import math\n",
    "import estimation as est"
   ]
  },
  {
   "cell_type": "code",
   "execution_count": 34,
   "metadata": {},
   "outputs": [],
   "source": [
    "lam = 2\n",
    "n = 10\n",
    "L = []\n",
    "x_bar = []\n",
    "for _ in range(1000):\n",
    "    sample = np.random.exponential(1/lam, n)\n",
    "    L.append(1/np.mean(sample))\n",
    "    x_bar.append(np.mean(sample))\n"
   ]
  },
  {
   "cell_type": "code",
   "execution_count": 65,
   "metadata": {},
   "outputs": [
    {
     "name": "stdout",
     "output_type": "stream",
     "text": [
      "1.2565521204676704\n",
      "3.607500525528136\n"
     ]
    },
    {
     "data": {
      "image/png": "[encoded data removed]",
      "text/plain": [
       "<Figure size 432x288 with 1 Axes>"
      ]
     },
     "metadata": {
      "needs_background": "light"
     },
     "output_type": "display_data"
    }
   ],
   "source": [
    "cdf = thinkstats2.Cdf(L)\n",
    "ci1 = cdf.Percentile(5)\n",
    "ci2 = cdf.Percentile(95)\n",
    "\n",
    "print(ci1)\n",
    "print(ci2)\n",
    "\n",
    "thinkplot.Cdfs([cdf])\n",
    "thinkplot.Config(xlabel='mean val',\n",
    "                 ylabel='cdf',\n",
    "                 legend=False)"
   ]
  },
  {
   "cell_type": "code",
   "execution_count": 69,
   "metadata": {},
   "outputs": [
    {
     "data": {
      "text/plain": [
       "0.7122832615740975"
      ]
     },
     "execution_count": 69,
     "metadata": {},
     "output_type": "execute_result"
    }
   ],
   "source": [
    "def Estimate3(n=10, m=1000):\n",
    "    lam = 2\n",
    "    means = []\n",
    "    medians = []\n",
    "    rmse = []\n",
    "    for _ in range(m):\n",
    "        xs = np.random.exponential(1.0/lam, n)\n",
    "        L = 1 / np.mean(xs)\n",
    "        Lm = math.log(2) / thinkstats2.Median(xs)\n",
    "        means.append(L)\n",
    "        medians.append(Lm)\n",
    "    rmse = est.RMSE(means, lam)\n",
    "#     print('rmse L', est.RMSE(means, lam))\n",
    "#     print('rmse Lm', est.RMSE(medians, lam))\n",
    "#     print('mean error L', est.MeanError(means, lam))\n",
    "#     print('mean error Lm', est.MeanError(medians, lam))\n",
    "    return rmse\n",
    "    \n",
    "Estimate3()"
   ]
  },
  {
   "cell_type": "code",
   "execution_count": 73,
   "metadata": {},
   "outputs": [],
   "source": [
    "rmses = []\n",
    "for i in range(5, 100, 1):\n",
    "    rmses.append(Estimate3(n=i, m=1000))\n",
    "    "
   ]
  },
  {
   "cell_type": "code",
   "execution_count": 74,
   "metadata": {},
   "outputs": [
    {
     "data": {
      "text/plain": [
       "[<matplotlib.lines.Line2D at 0x7fd9e40bb5e0>]"
      ]
     },
     "execution_count": 74,
     "metadata": {},
     "output_type": "execute_result"
    },
    {
     "data": {
      "image/png": "[encoded data removed]",
      "text/plain": [
       "<Figure size 432x288 with 1 Axes>"
      ]
     },
     "metadata": {
      "needs_background": "light"
     },
     "output_type": "display_data"
    }
   ],
   "source": [
    "#larger sample size led to smaller rmse\n",
    "plt.plot(range(5, 100, 1), rmses)"
   ]
  },
  {
   "cell_type": "code",
   "execution_count": null,
   "metadata": {},
   "outputs": [],
   "source": []
  }
 ],
 "metadata": {
  "kernelspec": {
   "display_name": "Python 3",
   "language": "python",
   "name": "python3"
  },
  "language_info": {
   "codemirror_mode": {
    "name": "ipython",
    "version": 3
   },
   "file_extension": ".py",
   "mimetype": "text/x-python",
   "name": "python",
   "nbconvert_exporter": "python",
   "pygments_lexer": "ipython3",
   "version": "3.8.5"
  }
 },
 "nbformat": 4,
 "nbformat_minor": 4
}
