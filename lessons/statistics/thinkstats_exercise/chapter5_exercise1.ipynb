{
 "cells": [
  {
   "cell_type": "code",
   "execution_count": 14,
   "metadata": {},
   "outputs": [
    {
     "data": {
      "text/plain": [
       "'/home/weizhao/shared_folder/ds_self_learning/data_science/Metis/metisgh/prework/ThinkStats2_my_work'"
      ]
     },
     "execution_count": 14,
     "metadata": {},
     "output_type": "execute_result"
    }
   ],
   "source": [
    "pwd"
   ]
  },
  {
   "cell_type": "code",
   "execution_count": 15,
   "metadata": {},
   "outputs": [
    {
     "name": "stdout",
     "output_type": "stream",
     "text": [
      "/home/weizhao/shared_folder/ds_self_learning/data_science/Metis/metisgh/prework/ThinkStats2-master/code\n"
     ]
    }
   ],
   "source": [
    "cd ../ThinkStats2-master/code"
   ]
  },
  {
   "cell_type": "code",
   "execution_count": 59,
   "metadata": {},
   "outputs": [],
   "source": [
    "from __future__ import print_function, division\n",
    "\n",
    "%matplotlib inline\n",
    "\n",
    "import numpy as np\n",
    "import scipy as sp\n",
    "import brfss\n",
    "import thinkstats2\n",
    "import thinkplot\n",
    "import matplotlib.pyplot as plt"
   ]
  },
  {
   "cell_type": "code",
   "execution_count": 19,
   "metadata": {},
   "outputs": [
    {
     "data": {
      "text/html": [
       "<div>\n",
       "<style scoped>\n",
       "    .dataframe tbody tr th:only-of-type {\n",
       "        vertical-align: middle;\n",
       "    }\n",
       "\n",
       "    .dataframe tbody tr th {\n",
       "        vertical-align: top;\n",
       "    }\n",
       "\n",
       "    .dataframe thead th {\n",
       "        text-align: right;\n",
       "    }\n",
       "</style>\n",
       "<table border=\"1\" class=\"dataframe\">\n",
       "  <thead>\n",
       "    <tr style=\"text-align: right;\">\n",
       "      <th></th>\n",
       "      <th>age</th>\n",
       "      <th>sex</th>\n",
       "      <th>wtyrago</th>\n",
       "      <th>finalwt</th>\n",
       "      <th>wtkg2</th>\n",
       "      <th>htm3</th>\n",
       "    </tr>\n",
       "  </thead>\n",
       "  <tbody>\n",
       "    <tr>\n",
       "      <th>0</th>\n",
       "      <td>82.0</td>\n",
       "      <td>2</td>\n",
       "      <td>76.363636</td>\n",
       "      <td>185.870345</td>\n",
       "      <td>70.91</td>\n",
       "      <td>157.0</td>\n",
       "    </tr>\n",
       "    <tr>\n",
       "      <th>1</th>\n",
       "      <td>65.0</td>\n",
       "      <td>2</td>\n",
       "      <td>72.727273</td>\n",
       "      <td>126.603027</td>\n",
       "      <td>72.73</td>\n",
       "      <td>163.0</td>\n",
       "    </tr>\n",
       "    <tr>\n",
       "      <th>2</th>\n",
       "      <td>48.0</td>\n",
       "      <td>2</td>\n",
       "      <td>NaN</td>\n",
       "      <td>181.063210</td>\n",
       "      <td>NaN</td>\n",
       "      <td>165.0</td>\n",
       "    </tr>\n",
       "    <tr>\n",
       "      <th>3</th>\n",
       "      <td>61.0</td>\n",
       "      <td>1</td>\n",
       "      <td>73.636364</td>\n",
       "      <td>517.926275</td>\n",
       "      <td>73.64</td>\n",
       "      <td>170.0</td>\n",
       "    </tr>\n",
       "    <tr>\n",
       "      <th>4</th>\n",
       "      <td>26.0</td>\n",
       "      <td>1</td>\n",
       "      <td>88.636364</td>\n",
       "      <td>1252.624630</td>\n",
       "      <td>88.64</td>\n",
       "      <td>185.0</td>\n",
       "    </tr>\n",
       "    <tr>\n",
       "      <th>...</th>\n",
       "      <td>...</td>\n",
       "      <td>...</td>\n",
       "      <td>...</td>\n",
       "      <td>...</td>\n",
       "      <td>...</td>\n",
       "      <td>...</td>\n",
       "    </tr>\n",
       "    <tr>\n",
       "      <th>414504</th>\n",
       "      <td>23.0</td>\n",
       "      <td>1</td>\n",
       "      <td>84.090909</td>\n",
       "      <td>43.439320</td>\n",
       "      <td>88.64</td>\n",
       "      <td>191.0</td>\n",
       "    </tr>\n",
       "    <tr>\n",
       "      <th>414505</th>\n",
       "      <td>49.0</td>\n",
       "      <td>2</td>\n",
       "      <td>70.454545</td>\n",
       "      <td>6.216538</td>\n",
       "      <td>72.73</td>\n",
       "      <td>170.0</td>\n",
       "    </tr>\n",
       "    <tr>\n",
       "      <th>414506</th>\n",
       "      <td>45.0</td>\n",
       "      <td>1</td>\n",
       "      <td>86.363636</td>\n",
       "      <td>20.617560</td>\n",
       "      <td>90.91</td>\n",
       "      <td>178.0</td>\n",
       "    </tr>\n",
       "    <tr>\n",
       "      <th>414507</th>\n",
       "      <td>52.0</td>\n",
       "      <td>2</td>\n",
       "      <td>89.090909</td>\n",
       "      <td>11.188138</td>\n",
       "      <td>89.09</td>\n",
       "      <td>157.0</td>\n",
       "    </tr>\n",
       "    <tr>\n",
       "      <th>414508</th>\n",
       "      <td>38.0</td>\n",
       "      <td>1</td>\n",
       "      <td>75.000000</td>\n",
       "      <td>25.989792</td>\n",
       "      <td>75.00</td>\n",
       "      <td>178.0</td>\n",
       "    </tr>\n",
       "  </tbody>\n",
       "</table>\n",
       "<p>414509 rows × 6 columns</p>\n",
       "</div>"
      ],
      "text/plain": [
       "         age  sex    wtyrago      finalwt  wtkg2   htm3\n",
       "0       82.0    2  76.363636   185.870345  70.91  157.0\n",
       "1       65.0    2  72.727273   126.603027  72.73  163.0\n",
       "2       48.0    2        NaN   181.063210    NaN  165.0\n",
       "3       61.0    1  73.636364   517.926275  73.64  170.0\n",
       "4       26.0    1  88.636364  1252.624630  88.64  185.0\n",
       "...      ...  ...        ...          ...    ...    ...\n",
       "414504  23.0    1  84.090909    43.439320  88.64  191.0\n",
       "414505  49.0    2  70.454545     6.216538  72.73  170.0\n",
       "414506  45.0    1  86.363636    20.617560  90.91  178.0\n",
       "414507  52.0    2  89.090909    11.188138  89.09  157.0\n",
       "414508  38.0    1  75.000000    25.989792  75.00  178.0\n",
       "\n",
       "[414509 rows x 6 columns]"
      ]
     },
     "execution_count": 19,
     "metadata": {},
     "output_type": "execute_result"
    }
   ],
   "source": [
    "df = brfss.ReadBrfss()\n",
    "df "
   ]
  },
  {
   "cell_type": "code",
   "execution_count": 117,
   "metadata": {},
   "outputs": [
    {
     "data": {
      "text/plain": [
       "3         170.0\n",
       "4         185.0\n",
       "5         183.0\n",
       "8         178.0\n",
       "9         173.0\n",
       "          ...  \n",
       "414501    175.0\n",
       "414503    168.0\n",
       "414504    191.0\n",
       "414506    178.0\n",
       "414508    178.0\n",
       "Name: htm3, Length: 155703, dtype: float64"
      ]
     },
     "execution_count": 117,
     "metadata": {},
     "output_type": "execute_result"
    }
   ],
   "source": [
    "# blue man: 178cm - 185 cm\n",
    "df_all_m = df.htm3[df.sex == 1]\n",
    "df_blue = df.htm3[df.htm3.between(178, 185) & df.sex == 1]\n",
    "df_all_m"
   ]
  },
  {
   "cell_type": "code",
   "execution_count": 127,
   "metadata": {},
   "outputs": [
    {
     "data": {
      "text/plain": [
       "0.4012577149999676"
      ]
     },
     "execution_count": 127,
     "metadata": {},
     "output_type": "execute_result"
    },
    {
     "data": {
      "image/png": "[encoded data removed]",
      "text/plain": [
       "<Figure size 432x288 with 1 Axes>"
      ]
     },
     "metadata": {
      "needs_background": "light"
     },
     "output_type": "display_data"
    }
   ],
   "source": [
    "cdf = thinkstats2.Cdf(df_all_m)\n",
    "cdf\n",
    "\n",
    "thinkplot.Cdfs([cdf])"
   ]
  },
  {
   "cell_type": "code",
   "execution_count": 128,
   "metadata": {},
   "outputs": [
    {
     "data": {
      "text/plain": [
       "0.3354705421386336"
      ]
     },
     "execution_count": 128,
     "metadata": {},
     "output_type": "execute_result"
    }
   ],
   "source": [
    "cdf[185] - cdf[178]"
   ]
  },
  {
   "cell_type": "code",
   "execution_count": 129,
   "metadata": {},
   "outputs": [
    {
     "data": {
      "text/plain": [
       "0.31834892955655103"
      ]
     },
     "execution_count": 129,
     "metadata": {},
     "output_type": "execute_result"
    }
   ],
   "source": [
    "mu = 178\n",
    "sigma = 7.7\n",
    "dist = sp.stats.norm(loc=mu, scale=sigma)\n",
    "\n",
    "# How many people are between 5'10\" and 6'1\"?\n",
    "dist.cdf(185) - dist.cdf(178)\n"
   ]
  }
 ],
 "metadata": {
  "kernelspec": {
   "display_name": "Python 3",
   "language": "python",
   "name": "python3"
  },
  "language_info": {
   "codemirror_mode": {
    "name": "ipython",
    "version": 3
   },
   "file_extension": ".py",
   "mimetype": "text/x-python",
   "name": "python",
   "nbconvert_exporter": "python",
   "pygments_lexer": "ipython3",
   "version": "3.8.5"
  }
 },
 "nbformat": 4,
 "nbformat_minor": 4
}
